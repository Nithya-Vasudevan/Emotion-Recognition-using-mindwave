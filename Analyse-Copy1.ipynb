{
 "cells": [
  {
   "cell_type": "code",
   "execution_count": 1,
   "metadata": {},
   "outputs": [],
   "source": [
    "import pandas as pd"
   ]
  },
  {
   "cell_type": "code",
   "execution_count": 2,
   "metadata": {},
   "outputs": [
    {
     "name": "stderr",
     "output_type": "stream",
     "text": [
      "Using TensorFlow backend.\n"
     ]
    }
   ],
   "source": [
    "import numpy as np\n",
    "from sklearn import preprocessing, neighbors\n",
    "import pandas as pd\n",
    "from sklearn.model_selection import train_test_split\n",
    "from sklearn import preprocessing\n",
    "import keras\n",
    "from keras.models import Sequential\n",
    "from keras.layers import Dense, Dropout, Activation, BatchNormalization"
   ]
  },
  {
   "cell_type": "code",
   "execution_count": 3,
   "metadata": {},
   "outputs": [],
   "source": [
    "import seaborn as sns\n",
    "import matplotlib.pyplot as plt\n",
    "%matplotlib inline"
   ]
  },
  {
   "cell_type": "code",
   "execution_count": 4,
   "metadata": {},
   "outputs": [],
   "source": [
    "import glob\n",
    "\n",
    "'''# get data file names\n",
    "path =r'D:\\Py scripts\\Sad Analysis\\Own dataset\\Happy'\n",
    "filenames = glob.glob(path + \"/*.csv\")\n",
    "train_happy = pd.DataFrame()\n",
    "data = []\n",
    "for filename in filenames:\n",
    "    df = pd.read_csv(filename)\n",
    "    sub1 = list(df['eegRawValue'][:7500])\n",
    "    sub2 = list(df['eegRawValue'][7500:15000])\n",
    "    sub3 = list(df['eegRawValue'][15000:22500])\n",
    "    sub4 = list(df['eegRawValue'][22500:30000])\n",
    "    \n",
    "    data.append(sub1)\n",
    "    data.append(sub2)\n",
    "    data.append(sub3)\n",
    "    data.append(sub4)\n",
    "train_happy['eegRawValue'] = data\n",
    "train_happy['tag'] = 'happy'\n",
    "'''\n",
    "# get data file names\n",
    "path =r'D:\\Py scripts\\Sad Analysis\\Own dataset\\Angry'\n",
    "filenames = glob.glob(path + \"/*.csv\")\n",
    "train_angry = pd.DataFrame()\n",
    "data = []\n",
    "for filename in filenames:\n",
    "    df = pd.read_csv(filename)\n",
    "    sub1 = list(df['eegRawValue'][:7500])\n",
    "    sub2 = list(df['eegRawValue'][7500:15000])\n",
    "    sub3 = list(df['eegRawValue'][15000:22500])\n",
    "    sub4 = list(df['eegRawValue'][22500:30000])\n",
    "    \n",
    "    data.append(sub1)\n",
    "    data.append(sub2)\n",
    "    data.append(sub3)\n",
    "    data.append(sub4)\n",
    "    \n",
    "train_angry['eegRawValue'] = data\n",
    "train_angry['tag'] = 'angry'\n",
    "\n",
    "# get data file names\n",
    "path =r'D:\\Py scripts\\Sad Analysis\\Own dataset\\Relaxed'\n",
    "filenames = glob.glob(path + \"/*.csv\")\n",
    "train_relaxed = pd.DataFrame()\n",
    "data = []\n",
    "for filename in filenames:\n",
    "    df = pd.read_csv(filename)\n",
    "    sub1 = list(df['eegRawValue'][:7500])\n",
    "    sub2 = list(df['eegRawValue'][7500:15000])\n",
    "    sub3 = list(df['eegRawValue'][15000:22500])\n",
    "    sub4 = list(df['eegRawValue'][22500:30000])\n",
    "    \n",
    "    data.append(sub1)\n",
    "    data.append(sub2)\n",
    "    data.append(sub3)\n",
    "    data.append(sub4)\n",
    "    \n",
    "train_relaxed['eegRawValue'] = data\n",
    "train_relaxed['tag'] = 'relaxed'"
   ]
  },
  {
   "cell_type": "code",
   "execution_count": 5,
   "metadata": {},
   "outputs": [],
   "source": [
    "#train_happy['len_of_raw_eeg'] = train_happy.eegRawValue.apply(lambda x: len(x))\n",
    "train_angry['len_of_raw_eeg'] = train_angry.eegRawValue.apply(lambda x: len(x))\n",
    "train_relaxed['len_of_raw_eeg'] = train_relaxed.eegRawValue.apply(lambda x: len(x))"
   ]
  },
  {
   "cell_type": "code",
   "execution_count": 6,
   "metadata": {},
   "outputs": [],
   "source": [
    "#train_happy = train_happy.query('len_of_raw_eeg == 7500').reset_index(drop=True)\n",
    "train_relaxed = train_relaxed.query('len_of_raw_eeg == 7500').reset_index(drop=True)\n",
    "train_angry = train_angry.query('len_of_raw_eeg == 7500').reset_index(drop=True)"
   ]
  },
  {
   "cell_type": "code",
   "execution_count": 7,
   "metadata": {},
   "outputs": [],
   "source": [
    "#train = pd.concat([train_angry, train_happy, train_relaxed]).reset_index(drop=True)\n",
    "train = pd.concat([train_angry,train_relaxed]).reset_index(drop=True)"
   ]
  },
  {
   "cell_type": "code",
   "execution_count": 9,
   "metadata": {},
   "outputs": [
    {
     "data": {
      "text/plain": [
       "(49, 3)"
      ]
     },
     "execution_count": 9,
     "metadata": {},
     "output_type": "execute_result"
    }
   ],
   "source": [
    "train.shape"
   ]
  },
  {
   "cell_type": "code",
   "execution_count": 10,
   "metadata": {},
   "outputs": [
    {
     "data": {
      "text/plain": [
       "relaxed    29\n",
       "angry      20\n",
       "Name: tag, dtype: int64"
      ]
     },
     "execution_count": 10,
     "metadata": {},
     "output_type": "execute_result"
    }
   ],
   "source": [
    "train.tag.value_counts()"
   ]
  },
  {
   "cell_type": "code",
   "execution_count": 11,
   "metadata": {},
   "outputs": [],
   "source": [
    "def replace(tag):\n",
    "    if tag == 'angry':\n",
    "        return 1\n",
    "    if tag == 'happy':\n",
    "        return 2\n",
    "    if tag == 'relaxed':\n",
    "        return 0\n",
    "    # Relaxed -> 0\n",
    "\n",
    "train['tag'] = train.tag.apply(replace)"
   ]
  },
  {
   "cell_type": "code",
   "execution_count": 12,
   "metadata": {},
   "outputs": [],
   "source": [
    "import numpy as np\n",
    "X = np.array(list(train.eegRawValue))\n",
    "Y = train.tag.values\n",
    "#Y = pd.get_dummies(Y)"
   ]
  },
  {
   "cell_type": "code",
   "execution_count": 13,
   "metadata": {},
   "outputs": [],
   "source": [
    "X = X.reshape(49,7500,1)"
   ]
  },
  {
   "cell_type": "code",
   "execution_count": 14,
   "metadata": {},
   "outputs": [
    {
     "data": {
      "text/plain": [
       "(49, 7500, 1)"
      ]
     },
     "execution_count": 14,
     "metadata": {},
     "output_type": "execute_result"
    }
   ],
   "source": [
    "X.shape"
   ]
  },
  {
   "cell_type": "code",
   "execution_count": 15,
   "metadata": {},
   "outputs": [
    {
     "data": {
      "text/plain": [
       "array([1, 1, 1, 1, 1, 1, 1, 1, 1, 1, 1, 1, 1, 1, 1, 1, 1, 1, 1, 1, 0, 0,\n",
       "       0, 0, 0, 0, 0, 0, 0, 0, 0, 0, 0, 0, 0, 0, 0, 0, 0, 0, 0, 0, 0, 0,\n",
       "       0, 0, 0, 0, 0], dtype=int64)"
      ]
     },
     "execution_count": 15,
     "metadata": {},
     "output_type": "execute_result"
    }
   ],
   "source": [
    "Y"
   ]
  },
  {
   "cell_type": "code",
   "execution_count": 16,
   "metadata": {},
   "outputs": [],
   "source": [
    "X_train,X_test,y_train,y_test = train_test_split(X, Y,test_size = 0.20)"
   ]
  },
  {
   "cell_type": "code",
   "execution_count": 17,
   "metadata": {},
   "outputs": [],
   "source": [
    "from keras.layers import Dense, Dropout, Flatten, Embedding, LSTM\n",
    "from keras.layers import Conv1D, MaxPooling1D"
   ]
  },
  {
   "cell_type": "code",
   "execution_count": 39,
   "metadata": {},
   "outputs": [
    {
     "name": "stderr",
     "output_type": "stream",
     "text": [
      "C:\\Users\\acer\\Anaconda3\\lib\\site-packages\\ipykernel_launcher.py:4: UserWarning: Update your `LSTM` call to the Keras 2 API: `LSTM(32, dropout=0.1, recurrent_dropout=0.1)`\n",
      "  after removing the cwd from sys.path.\n"
     ]
    }
   ],
   "source": [
    "model = Sequential()\n",
    "model.add(LSTM(32, dropout_U = 0.1, dropout_W = 0.1))\n",
    "model.add(Dense(500,activation='relu'))\n",
    "model.add(Dense(200,activation='relu'))\n",
    "model.add(Dense(100,activation='relu'))\n",
    "model.add(Dense(1,activation='relu'))\n",
    "model.compile(loss = 'binary_crossentropy', optimizer='adam',metrics = ['accuracy'])\n",
    "#print(model.summary())\n"
   ]
  },
  {
   "cell_type": "code",
   "execution_count": 41,
   "metadata": {
    "scrolled": true
   },
   "outputs": [
    {
     "name": "stdout",
     "output_type": "stream",
     "text": [
      "Train on 39 samples, validate on 10 samples\n",
      "Epoch 1/15\n",
      "39/39 [==============================] - 28s 727ms/step - loss: 2.3521 - acc: 0.5897 - val_loss: 0.6338 - val_acc: 0.6000\n",
      "Epoch 2/15\n",
      "39/39 [==============================] - 26s 671ms/step - loss: 0.6245 - acc: 0.6410 - val_loss: 0.6030 - val_acc: 0.9000\n",
      "Epoch 3/15\n",
      "39/39 [==============================] - 25s 653ms/step - loss: 0.6706 - acc: 0.5897 - val_loss: 0.5799 - val_acc: 0.7000\n",
      "Epoch 4/15\n",
      "39/39 [==============================] - 26s 679ms/step - loss: 0.8124 - acc: 0.4615 - val_loss: 0.5203 - val_acc: 0.9000\n",
      "Epoch 5/15\n",
      "39/39 [==============================] - 27s 705ms/step - loss: 0.8479 - acc: 0.5128 - val_loss: 0.4857 - val_acc: 0.9000\n",
      "Epoch 6/15\n",
      "39/39 [==============================] - 27s 684ms/step - loss: 0.6178 - acc: 0.7179 - val_loss: 0.4762 - val_acc: 0.8000\n",
      "Epoch 7/15\n",
      "39/39 [==============================] - 26s 659ms/step - loss: 0.6892 - acc: 0.6154 - val_loss: 0.4777 - val_acc: 0.8000\n",
      "Epoch 8/15\n",
      "39/39 [==============================] - 26s 677ms/step - loss: 0.6443 - acc: 0.6410 - val_loss: 0.4649 - val_acc: 0.8000\n",
      "Epoch 9/15\n",
      "39/39 [==============================] - 28s 723ms/step - loss: 0.6178 - acc: 0.6410 - val_loss: 0.4440 - val_acc: 0.8000\n",
      "Epoch 10/15\n",
      "39/39 [==============================] - 27s 680ms/step - loss: 0.6658 - acc: 0.6154 - val_loss: 0.4452 - val_acc: 0.9000\n",
      "Epoch 11/15\n",
      "39/39 [==============================] - 27s 682ms/step - loss: 0.7055 - acc: 0.5641 - val_loss: 0.4675 - val_acc: 0.9000\n",
      "Epoch 12/15\n",
      "39/39 [==============================] - 29s 731ms/step - loss: 0.6194 - acc: 0.6667 - val_loss: 0.4863 - val_acc: 0.9000\n",
      "Epoch 13/15\n",
      "39/39 [==============================] - 26s 656ms/step - loss: 0.7001 - acc: 0.6154 - val_loss: 0.5119 - val_acc: 0.8000\n",
      "Epoch 14/15\n",
      "39/39 [==============================] - 27s 681ms/step - loss: 0.6652 - acc: 0.5641 - val_loss: 0.5487 - val_acc: 0.8000\n",
      "Epoch 00014: early stopping\n"
     ]
    }
   ],
   "source": [
    "#Fitting the NN model\n",
    "from keras.callbacks import EarlyStopping\n",
    "es = EarlyStopping(monitor='val_loss', mode='min', verbose=1, patience=5)\n",
    "history = model.fit(X_train, y_train, epochs= 15, shuffle = True, callbacks=[es], \n",
    "                     validation_data=[X_test,y_test])"
   ]
  },
  {
   "cell_type": "code",
   "execution_count": 51,
   "metadata": {},
   "outputs": [
    {
     "name": "stdout",
     "output_type": "stream",
     "text": [
      "_________________________________________________________________\n",
      "Layer (type)                 Output Shape              Param #   \n",
      "=================================================================\n",
      "lstm_8 (LSTM)                (None, 32)                4352      \n",
      "_________________________________________________________________\n",
      "dense_29 (Dense)             (None, 500)               16500     \n",
      "_________________________________________________________________\n",
      "dense_30 (Dense)             (None, 200)               100200    \n",
      "_________________________________________________________________\n",
      "dense_31 (Dense)             (None, 100)               20100     \n",
      "_________________________________________________________________\n",
      "dense_32 (Dense)             (None, 1)                 101       \n",
      "=================================================================\n",
      "Total params: 141,253\n",
      "Trainable params: 141,253\n",
      "Non-trainable params: 0\n",
      "_________________________________________________________________\n"
     ]
    }
   ],
   "source": [
    "model.summary()"
   ]
  },
  {
   "cell_type": "code",
   "execution_count": 43,
   "metadata": {},
   "outputs": [
    {
     "data": {
      "image/png": "[encoded data removed]",
      "text/plain": [
       "<Figure size 432x288 with 1 Axes>"
      ]
     },
     "metadata": {
      "needs_background": "light"
     },
     "output_type": "display_data"
    }
   ],
   "source": [
    "import matplotlib.pyplot as plt\n",
    "# summarize history for accuracy\n",
    "plt.plot(history.history['acc'])\n",
    "plt.plot(history.history['val_acc'])\n",
    "plt.title('model accuracy')\n",
    "plt.ylabel('accuracy')\n",
    "plt.xlabel('epoch')\n",
    "plt.legend(['train', 'test'], loc='upper left')\n",
    "plt.show()"
   ]
  },
  {
   "cell_type": "code",
   "execution_count": 44,
   "metadata": {},
   "outputs": [
    {
     "data": {
      "image/png": "[encoded data removed]",
      "text/plain": [
       "<Figure size 432x288 with 1 Axes>"
      ]
     },
     "metadata": {
      "needs_background": "light"
     },
     "output_type": "display_data"
    }
   ],
   "source": [
    "\n",
    "# summarize history for loss\n",
    "plt.plot(history.history['loss'])\n",
    "plt.plot(history.history['val_loss'])\n",
    "plt.title('model loss')\n",
    "plt.ylabel('loss')\n",
    "plt.xlabel('epoch')\n",
    "plt.legend(['train', 'test'], loc='upper left')\n",
    "plt.show()"
   ]
  },
  {
   "cell_type": "code",
   "execution_count": 45,
   "metadata": {},
   "outputs": [],
   "source": [
    "Y_p = model.predict_classes(X_test)"
   ]
  },
  {
   "cell_type": "code",
   "execution_count": 46,
   "metadata": {},
   "outputs": [
    {
     "name": "stdout",
     "output_type": "stream",
     "text": [
      "Accuracy: 0.8\n",
      "F1 score: 0.7809523809523808\n",
      "Recall: 0.8\n",
      "Precision_score: 0.85\n"
     ]
    }
   ],
   "source": [
    "from sklearn.metrics import confusion_matrix\n",
    "from sklearn.metrics import precision_score, recall_score, confusion_matrix, classification_report,accuracy_score, f1_score\n",
    "print('Accuracy:', accuracy_score(y_test, Y_p))\n",
    "print('F1 score:', f1_score(y_test, Y_p,average='weighted'))\n",
    "print('Recall:', recall_score(y_test, Y_p, average='weighted'))\n",
    "print('Precision_score:', precision_score(y_test, Y_p, average='weighted'))"
   ]
  },
  {
   "cell_type": "code",
   "execution_count": 47,
   "metadata": {},
   "outputs": [
    {
     "data": {
      "text/plain": [
       "array([1, 1, 0, 0, 0, 0, 1, 0, 1, 0], dtype=int64)"
      ]
     },
     "execution_count": 47,
     "metadata": {},
     "output_type": "execute_result"
    }
   ],
   "source": [
    "y_test"
   ]
  },
  {
   "cell_type": "code",
   "execution_count": 50,
   "metadata": {},
   "outputs": [
    {
     "data": {
      "text/plain": [
       "array([[1],\n",
       "       [0],\n",
       "       [0],\n",
       "       [0],\n",
       "       [0],\n",
       "       [0],\n",
       "       [1],\n",
       "       [0],\n",
       "       [0],\n",
       "       [0]])"
      ]
     },
     "execution_count": 50,
     "metadata": {},
     "output_type": "execute_result"
    }
   ],
   "source": [
    "Y_p"
   ]
  }
 ],
 "metadata": {
  "kernelspec": {
   "display_name": "Python 3",
   "language": "python",
   "name": "python3"
  },
  "language_info": {
   "codemirror_mode": {
    "name": "ipython",
    "version": 3
   },
   "file_extension": ".py",
   "mimetype": "text/x-python",
   "name": "python",
   "nbconvert_exporter": "python",
   "pygments_lexer": "ipython3",
   "version": "3.7.3"
  }
 },
 "nbformat": 4,
 "nbformat_minor": 2
}
