{
 "cells": [
  {
   "cell_type": "code",
   "execution_count": 2,
   "metadata": {},
   "outputs": [
    {
     "name": "stderr",
     "output_type": "stream",
     "text": [
      "Using TensorFlow backend.\n"
     ]
    }
   ],
   "source": [
    "import numpy as np\n",
    "from sklearn import preprocessing, neighbors\n",
    "import pandas as pd\n",
    "import glob\n",
    "from sklearn.model_selection import train_test_split\n",
    "from sklearn import preprocessing\n",
    "import keras\n",
    "from keras.models import Sequential\n",
    "from keras.layers import Dense, Dropout, Activation, BatchNormalization\n",
    "from keras.layers import Flatten, LSTM\n",
    "from keras.layers import Conv1D, MaxPooling1D\n",
    "from keras.callbacks import EarlyStopping\n",
    "import matplotlib.pyplot as plt\n",
    "#from tensorflow.python.client import device_lib"
   ]
  },
  {
   "cell_type": "code",
   "execution_count": 3,
   "metadata": {},
   "outputs": [],
   "source": [
    "path =r'D:\\Py scripts\\Sad Analysis\\Own dataset'\n",
    "targets = ['Solving', 'Relaxed']"
   ]
  },
  {
   "cell_type": "code",
   "execution_count": 4,
   "metadata": {},
   "outputs": [
    {
     "data": {
      "text/plain": [
       "['Solving', 'Relaxed']"
      ]
     },
     "execution_count": 4,
     "metadata": {},
     "output_type": "execute_result"
    }
   ],
   "source": [
    "targets"
   ]
  },
  {
   "cell_type": "code",
   "execution_count": 5,
   "metadata": {},
   "outputs": [],
   "source": [
    "def divide_chunks(l, n): \n",
    "# looping till length l \n",
    "    for i in range(0, len(l), n):  \n",
    "        yield l[i:i + n] "
   ]
  },
  {
   "cell_type": "code",
   "execution_count": 6,
   "metadata": {},
   "outputs": [],
   "source": [
    "# get data file names\n",
    "seg_dim = 7500\n",
    "def segments(tag, seg_dim):\n",
    "    filenames = glob.glob(\"{}\\{}\".format(path, tag) + \"/*.csv\")\n",
    "    tag_df = pd.DataFrame()\n",
    "    eeg_data = []\n",
    "    for filename in filenames:\n",
    "        tmp = pd.DataFrame()\n",
    "        df = pd.read_csv(filename)\n",
    "        segmented_eeg = list(divide_chunks(list(df['eegRawValue']), seg_dim))\n",
    "        tmp['EEG'] = segmented_eeg\n",
    "        tmp['tag_label'] = tag\n",
    "        tmp['eeglen'] = tmp.EEG.apply(lambda x: len(x))\n",
    "        tmp = tmp.query('eeglen == @seg_dim')\n",
    "        eeg_data.append(tmp)\n",
    "    #tag_df = pd.concat(eeg_data)\n",
    "    return pd.concat(eeg_data)"
   ]
  },
  {
   "cell_type": "code",
   "execution_count": 7,
   "metadata": {},
   "outputs": [],
   "source": [
    "train = []\n",
    "for tag in targets:\n",
    "    train.append(segments(tag, seg_dim))"
   ]
  },
  {
   "cell_type": "code",
   "execution_count": 8,
   "metadata": {},
   "outputs": [],
   "source": [
    "train = pd.concat(train)\n",
    "#train.to_csv(\"Recently_prepared_train2.csv\", index = False)"
   ]
  },
  {
   "cell_type": "code",
   "execution_count": 9,
   "metadata": {},
   "outputs": [
    {
     "data": {
      "text/plain": [
       "Index(['EEG', 'tag_label', 'eeglen'], dtype='object')"
      ]
     },
     "execution_count": 9,
     "metadata": {},
     "output_type": "execute_result"
    }
   ],
   "source": [
    "train.columns"
   ]
  },
  {
   "cell_type": "code",
   "execution_count": 10,
   "metadata": {},
   "outputs": [
    {
     "data": {
      "text/plain": [
       "Solving    108\n",
       "Relaxed     89\n",
       "Name: tag_label, dtype: int64"
      ]
     },
     "execution_count": 10,
     "metadata": {},
     "output_type": "execute_result"
    }
   ],
   "source": [
    "train.tag_label.value_counts()"
   ]
  },
  {
   "cell_type": "code",
   "execution_count": 11,
   "metadata": {},
   "outputs": [],
   "source": [
    "def replace(tag):\n",
    "    if tag == 'Relaxed':\n",
    "        return 0\n",
    "    if tag == 'Solving':\n",
    "        return 1\n",
    "    if tag == 'Laugh':\n",
    "        return 2\n",
    "    # Relaxed -> 0\n",
    "\n",
    "train['tag'] = train.tag_label.apply(replace)"
   ]
  },
  {
   "cell_type": "code",
   "execution_count": null,
   "metadata": {},
   "outputs": [],
   "source": []
  },
  {
   "cell_type": "code",
   "execution_count": 12,
   "metadata": {},
   "outputs": [],
   "source": [
    "X = np.array(list(train.EEG))\n",
    "Y = train.tag.values\n",
    "X = X.reshape(len(X), seg_dim, 1)\n",
    "Y = pd.get_dummies(train.tag).values"
   ]
  },
  {
   "cell_type": "code",
   "execution_count": 13,
   "metadata": {},
   "outputs": [],
   "source": [
    "X_train,X_test,y_train,y_test = train_test_split(X, Y,test_size = 0.20)"
   ]
  },
  {
   "cell_type": "code",
   "execution_count": 56,
   "metadata": {},
   "outputs": [
    {
     "ename": "NameError",
     "evalue": "name 'device_lib' is not defined",
     "output_type": "error",
     "traceback": [
      "\u001b[1;31m---------------------------------------------------------------------------\u001b[0m",
      "\u001b[1;31mNameError\u001b[0m                                 Traceback (most recent call last)",
      "\u001b[1;32m<ipython-input-56-57062467377b>\u001b[0m in \u001b[0;36m<module>\u001b[1;34m\u001b[0m\n\u001b[1;32m----> 1\u001b[1;33m \u001b[0mprint\u001b[0m\u001b[1;33m(\u001b[0m\u001b[0mdevice_lib\u001b[0m\u001b[1;33m.\u001b[0m\u001b[0mlist_local_devices\u001b[0m\u001b[1;33m(\u001b[0m\u001b[1;33m)\u001b[0m\u001b[1;33m)\u001b[0m\u001b[1;33m\u001b[0m\u001b[1;33m\u001b[0m\u001b[0m\n\u001b[0m",
      "\u001b[1;31mNameError\u001b[0m: name 'device_lib' is not defined"
     ]
    }
   ],
   "source": [
    "print(device_lib.list_local_devices())"
   ]
  },
  {
   "cell_type": "code",
   "execution_count": 16,
   "metadata": {},
   "outputs": [
    {
     "name": "stderr",
     "output_type": "stream",
     "text": [
      "C:\\Users\\acer\\Anaconda3\\lib\\site-packages\\ipykernel_launcher.py:2: UserWarning: Update your `LSTM` call to the Keras 2 API: `LSTM(64, dropout=0.1, recurrent_dropout=0.1)`\n",
      "  \n"
     ]
    }
   ],
   "source": [
    "model = Sequential()\n",
    "model.add(LSTM(64, dropout_U = 0.1, dropout_W = 0.1))\n",
    "model.add(Dense(500,activation='relu'))\n",
    "model.add(Dense(200,activation='relu'))\n",
    "model.add(Dense(100,activation='relu'))\n",
    "model.add(Dense(2,activation='softmax'))\n",
    "model.compile(loss = 'categorical_crossentropy', optimizer='Adam',metrics = ['accuracy'])"
   ]
  },
  {
   "cell_type": "code",
   "execution_count": 17,
   "metadata": {},
   "outputs": [
    {
     "name": "stdout",
     "output_type": "stream",
     "text": [
      "WARNING:tensorflow:From C:\\Users\\acer\\Anaconda3\\lib\\site-packages\\keras\\backend\\tensorflow_backend.py:517: The name tf.placeholder is deprecated. Please use tf.compat.v1.placeholder instead.\n",
      "\n",
      "WARNING:tensorflow:From C:\\Users\\acer\\Anaconda3\\lib\\site-packages\\keras\\backend\\tensorflow_backend.py:4138: The name tf.random_uniform is deprecated. Please use tf.random.uniform instead.\n",
      "\n",
      "WARNING:tensorflow:From C:\\Users\\acer\\Anaconda3\\lib\\site-packages\\keras\\backend\\tensorflow_backend.py:133: The name tf.placeholder_with_default is deprecated. Please use tf.compat.v1.placeholder_with_default instead.\n",
      "\n",
      "WARNING:tensorflow:From C:\\Users\\acer\\Anaconda3\\lib\\site-packages\\keras\\backend\\tensorflow_backend.py:3445: calling dropout (from tensorflow.python.ops.nn_ops) with keep_prob is deprecated and will be removed in a future version.\n",
      "Instructions for updating:\n",
      "Please use `rate` instead of `keep_prob`. Rate should be set to `rate = 1 - keep_prob`.\n",
      "WARNING:tensorflow:From C:\\Users\\acer\\Anaconda3\\lib\\site-packages\\keras\\backend\\tensorflow_backend.py:3295: The name tf.log is deprecated. Please use tf.math.log instead.\n",
      "\n",
      "WARNING:tensorflow:From C:\\Users\\acer\\Anaconda3\\lib\\site-packages\\tensorflow\\python\\ops\\math_grad.py:1250: add_dispatch_support.<locals>.wrapper (from tensorflow.python.ops.array_ops) is deprecated and will be removed in a future version.\n",
      "Instructions for updating:\n",
      "Use tf.where in 2.0, which has the same broadcast rule as np.where\n",
      "Train on 157 samples, validate on 40 samples\n",
      "Epoch 1/20\n",
      "157/157 [==============================] - 64s 406ms/step - loss: 0.7044 - acc: 0.5096 - val_loss: 0.7465 - val_acc: 0.3750\n",
      "Epoch 2/20\n",
      "157/157 [==============================] - 60s 383ms/step - loss: 0.6830 - acc: 0.4904 - val_loss: 0.7083 - val_acc: 0.3500\n",
      "Epoch 3/20\n",
      "157/157 [==============================] - 61s 387ms/step - loss: 0.6571 - acc: 0.6115 - val_loss: 0.7106 - val_acc: 0.6500\n",
      "Epoch 4/20\n",
      "157/157 [==============================] - 61s 389ms/step - loss: 0.6986 - acc: 0.5732 - val_loss: 0.7119 - val_acc: 0.5000\n",
      "Epoch 5/20\n",
      "157/157 [==============================] - 64s 406ms/step - loss: 0.6636 - acc: 0.6178 - val_loss: 0.6881 - val_acc: 0.5000\n",
      "Epoch 6/20\n",
      "157/157 [==============================] - 63s 400ms/step - loss: 0.6455 - acc: 0.6497 - val_loss: 0.7176 - val_acc: 0.4750\n",
      "Epoch 7/20\n",
      "157/157 [==============================] - 61s 391ms/step - loss: 0.6200 - acc: 0.6433 - val_loss: 0.7323 - val_acc: 0.5000\n",
      "Epoch 8/20\n",
      "157/157 [==============================] - 62s 394ms/step - loss: 0.6767 - acc: 0.5987 - val_loss: 0.7227 - val_acc: 0.5250\n",
      "Epoch 9/20\n",
      "157/157 [==============================] - 63s 404ms/step - loss: 0.6370 - acc: 0.6178 - val_loss: 0.7576 - val_acc: 0.5500\n",
      "Epoch 10/20\n",
      "157/157 [==============================] - 66s 419ms/step - loss: 0.6311 - acc: 0.6624 - val_loss: 0.7161 - val_acc: 0.5500\n",
      "Epoch 00010: early stopping\n"
     ]
    }
   ],
   "source": [
    "#Fitting the NN model\n",
    "es = EarlyStopping(monitor='val_loss', mode='min', verbose=1, patience=5)\n",
    "history = model.fit(X_train, y_train, epochs= 20, shuffle = True, callbacks=[es], \n",
    "                     validation_data=[X_test,y_test])"
   ]
  },
  {
   "cell_type": "code",
   "execution_count": 41,
   "metadata": {},
   "outputs": [
    {
     "name": "stdout",
     "output_type": "stream",
     "text": [
      "_________________________________________________________________\n",
      "Layer (type)                 Output Shape              Param #   \n",
      "=================================================================\n",
      "lstm_4 (LSTM)                (None, 32)                4352      \n",
      "_________________________________________________________________\n",
      "dense_13 (Dense)             (None, 500)               16500     \n",
      "_________________________________________________________________\n",
      "dense_14 (Dense)             (None, 200)               100200    \n",
      "_________________________________________________________________\n",
      "dense_15 (Dense)             (None, 100)               20100     \n",
      "_________________________________________________________________\n",
      "dense_16 (Dense)             (None, 3)                 303       \n",
      "=================================================================\n",
      "Total params: 141,455\n",
      "Trainable params: 141,455\n",
      "Non-trainable params: 0\n",
      "_________________________________________________________________\n"
     ]
    }
   ],
   "source": [
    "model.summary()"
   ]
  },
  {
   "cell_type": "code",
   "execution_count": null,
   "metadata": {},
   "outputs": [],
   "source": []
  },
  {
   "cell_type": "code",
   "execution_count": 19,
   "metadata": {},
   "outputs": [
    {
     "data": {
      "image/png": "[encoded data removed]",
      "text/plain": [
       "<Figure size 432x288 with 1 Axes>"
      ]
     },
     "metadata": {
      "needs_background": "light"
     },
     "output_type": "display_data"
    }
   ],
   "source": [
    "# summarize history for accuracy\n",
    "plt.plot(history.history['acc'])\n",
    "plt.plot(history.history['val_acc'])\n",
    "plt.title('model accuracy')\n",
    "plt.ylabel('accuracy')\n",
    "plt.xlabel('epoch')\n",
    "plt.legend(['X_train', 'test'], loc='upper left')\n",
    "plt.show()"
   ]
  },
  {
   "cell_type": "code",
   "execution_count": 20,
   "metadata": {},
   "outputs": [
    {
     "data": {
      "image/png": "[encoded data removed]",
      "text/plain": [
       "<Figure size 432x288 with 1 Axes>"
      ]
     },
     "metadata": {
      "needs_background": "light"
     },
     "output_type": "display_data"
    }
   ],
   "source": [
    "\n",
    "# summarize history for loss\n",
    "plt.plot(history.history['loss'])\n",
    "plt.plot(history.history['val_loss'])\n",
    "plt.title('model loss')\n",
    "plt.ylabel('loss')\n",
    "plt.xlabel('epoch')\n",
    "plt.legend(['train', 'test'], loc='upper left')\n",
    "plt.show()"
   ]
  },
  {
   "cell_type": "code",
   "execution_count": 22,
   "metadata": {},
   "outputs": [],
   "source": [
    "Y_p = model.predict_classes(X_test)"
   ]
  },
  {
   "cell_type": "code",
   "execution_count": 23,
   "metadata": {},
   "outputs": [
    {
     "name": "stdout",
     "output_type": "stream",
     "text": [
      "Accuracy: 0.55\n",
      "F1 score: 0.55\n",
      "Recall: 0.55\n",
      "Precision_score: 0.55\n"
     ]
    }
   ],
   "source": [
    "from sklearn.metrics import confusion_matrix\n",
    "from sklearn.metrics import precision_score, recall_score, confusion_matrix, classification_report,accuracy_score, f1_score\n",
    "print('Accuracy:', accuracy_score(y_test.argmax(axis=1), Y_p))\n",
    "print('F1 score:', f1_score(y_test.argmax(axis=1), Y_p,average='weighted'))\n",
    "print('Recall:', recall_score(y_test.argmax(axis=1), Y_p, average='weighted'))\n",
    "print('Precision_score:', precision_score(y_test.argmax(axis=1), Y_p, average='weighted'))"
   ]
  },
  {
   "cell_type": "code",
   "execution_count": 24,
   "metadata": {},
   "outputs": [
    {
     "data": {
      "text/plain": [
       "array([0, 1, 1, 1, 0, 0, 0, 1, 1, 1, 1, 0, 1, 0, 1, 0, 0, 1, 0, 0, 1, 1,\n",
       "       1, 0, 1, 0, 0, 1, 1, 0, 1, 1, 1, 0, 1, 0, 1, 1, 1, 1], dtype=int64)"
      ]
     },
     "execution_count": 24,
     "metadata": {},
     "output_type": "execute_result"
    }
   ],
   "source": [
    "#binary\n",
    "Y_p"
   ]
  },
  {
   "cell_type": "code",
   "execution_count": 25,
   "metadata": {},
   "outputs": [
    {
     "data": {
      "text/plain": [
       "array([1, 0, 0, 1, 1, 1, 1, 1, 0, 1, 0, 0, 0, 0, 0, 0, 1, 0, 1, 0, 1, 1,\n",
       "       1, 0, 1, 1, 1, 1, 1, 0, 1, 1, 1, 0, 1, 1, 0, 0, 1, 1], dtype=int64)"
      ]
     },
     "execution_count": 25,
     "metadata": {},
     "output_type": "execute_result"
    }
   ],
   "source": [
    "y_test.argmax(axis=1)"
   ]
  },
  {
   "cell_type": "code",
   "execution_count": null,
   "metadata": {},
   "outputs": [],
   "source": [
    "#Relaxed -> 0\n",
    "#Solving -> 1"
   ]
  },
  {
   "cell_type": "code",
   "execution_count": null,
   "metadata": {},
   "outputs": [],
   "source": []
  },
  {
   "cell_type": "code",
   "execution_count": null,
   "metadata": {},
   "outputs": [],
   "source": []
  }
 ],
 "metadata": {
  "kernelspec": {
   "display_name": "Python 3",
   "language": "python",
   "name": "python3"
  },
  "language_info": {
   "codemirror_mode": {
    "name": "ipython",
    "version": 3
   },
   "file_extension": ".py",
   "mimetype": "text/x-python",
   "name": "python",
   "nbconvert_exporter": "python",
   "pygments_lexer": "ipython3",
   "version": "3.7.3"
  }
 },
 "nbformat": 4,
 "nbformat_minor": 2
}
