{
 "cells": [
  {
   "cell_type": "code",
   "execution_count": 1,
   "metadata": {},
   "outputs": [
    {
     "name": "stderr",
     "output_type": "stream",
     "text": [
      "Using TensorFlow backend.\n"
     ]
    }
   ],
   "source": [
    "import numpy as np\n",
    "from sklearn import preprocessing, neighbors\n",
    "import pandas as pd\n",
    "import glob\n",
    "from sklearn.model_selection import train_test_split\n",
    "from sklearn import preprocessing\n",
    "import keras\n",
    "from keras.models import Sequential, Model\n",
    "from keras.layers import Dense, Dropout, Activation, BatchNormalization\n",
    "from keras.layers import Flatten, LSTM, Input, Embedding\n",
    "from keras.callbacks import EarlyStopping\n",
    "import matplotlib.pyplot as plt\n",
    "#from tensorflow.python.client import device_lib"
   ]
  },
  {
   "cell_type": "code",
   "execution_count": 60,
   "metadata": {},
   "outputs": [],
   "source": [
    "path =r'D:\\Py scripts\\Sad Analysis\\Own dataset'\n",
    "targets = ['Solving', 'Relaxed']\n",
    "#targets = ['Solving', 'Relaxed', 'Laugh']"
   ]
  },
  {
   "cell_type": "code",
   "execution_count": 61,
   "metadata": {},
   "outputs": [
    {
     "data": {
      "text/plain": [
       "['Solving', 'Relaxed']"
      ]
     },
     "execution_count": 61,
     "metadata": {},
     "output_type": "execute_result"
    }
   ],
   "source": [
    "targets"
   ]
  },
  {
   "cell_type": "code",
   "execution_count": 62,
   "metadata": {},
   "outputs": [],
   "source": [
    "def divide_chunks(l, n): \n",
    "# looping till length l \n",
    "    for i in range(0, len(l), n):  \n",
    "        yield l[i:i + n] "
   ]
  },
  {
   "cell_type": "code",
   "execution_count": 63,
   "metadata": {},
   "outputs": [],
   "source": [
    "# get data file names\n",
    "seg_dim = 7500\n",
    "def segments(tag, seg_dim):\n",
    "    filenames = glob.glob(\"{}\\{}\".format(path, tag) + \"/*.csv\")\n",
    "    tag_df = pd.DataFrame()\n",
    "    eeg_data = []\n",
    "    for filename in filenames:\n",
    "        tmp = pd.DataFrame()\n",
    "        df = pd.read_csv(filename)\n",
    "        segmented_eeg = list(divide_chunks(list(df['eegRawValue']), seg_dim))\n",
    "        tmp['EEG'] = segmented_eeg\n",
    "        tmp['tag_label'] = tag\n",
    "        tmp['eeglen'] = tmp.EEG.apply(lambda x: len(x))\n",
    "        tmp = tmp.query('eeglen == @seg_dim')\n",
    "        eeg_data.append(tmp)\n",
    "    #tag_df = pd.concat(eeg_data)\n",
    "    return pd.concat(eeg_data)"
   ]
  },
  {
   "cell_type": "code",
   "execution_count": 64,
   "metadata": {},
   "outputs": [],
   "source": [
    "train = []\n",
    "for tag in targets:\n",
    "    train.append(segments(tag, seg_dim))"
   ]
  },
  {
   "cell_type": "code",
   "execution_count": 65,
   "metadata": {},
   "outputs": [],
   "source": [
    "train = pd.concat(train)\n",
    "#train.to_csv(\"Recently_prepared_train2.csv\", index = False)"
   ]
  },
  {
   "cell_type": "code",
   "execution_count": 66,
   "metadata": {},
   "outputs": [
    {
     "data": {
      "text/plain": [
       "Index(['EEG', 'tag_label', 'eeglen'], dtype='object')"
      ]
     },
     "execution_count": 66,
     "metadata": {},
     "output_type": "execute_result"
    }
   ],
   "source": [
    "train.columns"
   ]
  },
  {
   "cell_type": "code",
   "execution_count": 67,
   "metadata": {},
   "outputs": [
    {
     "data": {
      "text/plain": [
       "Solving    108\n",
       "Relaxed     89\n",
       "Name: tag_label, dtype: int64"
      ]
     },
     "execution_count": 67,
     "metadata": {},
     "output_type": "execute_result"
    }
   ],
   "source": [
    "train.tag_label.value_counts()"
   ]
  },
  {
   "cell_type": "code",
   "execution_count": 68,
   "metadata": {},
   "outputs": [],
   "source": [
    "def replace(tag):\n",
    "    if tag == 'Relaxed':\n",
    "        return 0\n",
    "    if tag == 'Solving':\n",
    "        return 1\n",
    "    if tag == 'Laugh':\n",
    "        return 2\n",
    "    # Relaxed -> 0\n",
    "\n",
    "train['tag'] = train.tag_label.apply(replace)"
   ]
  },
  {
   "cell_type": "code",
   "execution_count": null,
   "metadata": {},
   "outputs": [],
   "source": []
  },
  {
   "cell_type": "code",
   "execution_count": 69,
   "metadata": {},
   "outputs": [],
   "source": [
    "X = np.array(list(train.EEG))\n",
    "Y = train.tag.values\n",
    "X = X.reshape(len(X), seg_dim, 1)\n",
    "Y = pd.get_dummies(train.tag).values"
   ]
  },
  {
   "cell_type": "code",
   "execution_count": 70,
   "metadata": {},
   "outputs": [],
   "source": [
    "X_train,X_test,y_train,y_test = train_test_split(X, Y,test_size = 0.20)"
   ]
  },
  {
   "cell_type": "code",
   "execution_count": 71,
   "metadata": {},
   "outputs": [],
   "source": [
    "from keras.layers import Layer\n",
    "import keras.backend as K"
   ]
  },
  {
   "cell_type": "code",
   "execution_count": 72,
   "metadata": {},
   "outputs": [],
   "source": [
    "class attention(Layer):\n",
    "    def __init__(self,**kwargs):\n",
    "        super(attention,self).__init__(**kwargs)\n",
    "\n",
    "    def build(self,input_shape):\n",
    "        self.W=self.add_weight(name=\"att_weight\",shape=(input_shape[-1],1),initializer=\"normal\")\n",
    "        self.b=self.add_weight(name=\"att_bias\",shape=(input_shape[1],1),initializer=\"zeros\")        \n",
    "        super(attention, self).build(input_shape)\n",
    "\n",
    "    def call(self,x):\n",
    "        et=K.squeeze(K.tanh(K.dot(x,self.W)+self.b),axis=-1)\n",
    "        at=K.softmax(et)\n",
    "        at=K.expand_dims(at,axis=-1)\n",
    "        output=x*at\n",
    "        return K.sum(output,axis=1)\n",
    "\n",
    "    def compute_output_shape(self,input_shape):\n",
    "        return (input_shape[0],input_shape[-1])\n",
    "\n",
    "    def get_config(self):\n",
    "        return super(attention,self).get_config()"
   ]
  },
  {
   "cell_type": "code",
   "execution_count": 75,
   "metadata": {},
   "outputs": [],
   "source": [
    "inputs1=Input(shape=(7500,1))\n",
    "x1=LSTM(64,return_sequences=True,dropout=0.3,recurrent_dropout=0.2)(inputs1)\n",
    "att_out=attention()(x1)\n",
    "\n",
    "x2 = Dense(500,activation='relu')(att_out)\n",
    "x2 = Dense(200,activation='relu')(x2)\n",
    "x2 = Dense(100,activation='relu')(x2)\n",
    "\n",
    "outputs1=Dense(2,activation='softmax')(x2)\n",
    "model1=Model(inputs1,outputs1)\n",
    "model1.compile(loss = 'categorical_crossentropy', optimizer='Adam',metrics = ['accuracy'])"
   ]
  },
  {
   "cell_type": "code",
   "execution_count": 76,
   "metadata": {},
   "outputs": [
    {
     "name": "stdout",
     "output_type": "stream",
     "text": [
      "_________________________________________________________________\n",
      "Layer (type)                 Output Shape              Param #   \n",
      "=================================================================\n",
      "input_10 (InputLayer)        (None, 7500, 1)           0         \n",
      "_________________________________________________________________\n",
      "lstm_9 (LSTM)                (None, 7500, 64)          16896     \n",
      "_________________________________________________________________\n",
      "attention_8 (attention)      (None, 64)                7564      \n",
      "_________________________________________________________________\n",
      "dense_18 (Dense)             (None, 500)               32500     \n",
      "_________________________________________________________________\n",
      "dense_19 (Dense)             (None, 200)               100200    \n",
      "_________________________________________________________________\n",
      "dense_20 (Dense)             (None, 100)               20100     \n",
      "_________________________________________________________________\n",
      "dense_21 (Dense)             (None, 2)                 202       \n",
      "=================================================================\n",
      "Total params: 177,462\n",
      "Trainable params: 177,462\n",
      "Non-trainable params: 0\n",
      "_________________________________________________________________\n"
     ]
    }
   ],
   "source": [
    "model1.summary()"
   ]
  },
  {
   "cell_type": "code",
   "execution_count": 77,
   "metadata": {
    "scrolled": true
   },
   "outputs": [
    {
     "name": "stdout",
     "output_type": "stream",
     "text": [
      "Train on 157 samples, validate on 40 samples\n",
      "Epoch 1/20\n",
      "157/157 [==============================] - 211s 1s/step - loss: 0.6943 - acc: 0.5478 - val_loss: 0.6786 - val_acc: 0.5250\n",
      "Epoch 2/20\n",
      "157/157 [==============================] - 189s 1s/step - loss: 0.6828 - acc: 0.5478 - val_loss: 0.6587 - val_acc: 0.5250\n",
      "Epoch 3/20\n",
      "157/157 [==============================] - 191s 1s/step - loss: 0.6867 - acc: 0.5478 - val_loss: 0.6441 - val_acc: 0.7250\n",
      "Epoch 4/20\n",
      "157/157 [==============================] - 199s 1s/step - loss: 0.6895 - acc: 0.5924 - val_loss: 0.6356 - val_acc: 0.7750\n",
      "Epoch 5/20\n",
      "157/157 [==============================] - 184s 1s/step - loss: 0.6727 - acc: 0.6306 - val_loss: 0.6062 - val_acc: 0.7500\n",
      "Epoch 6/20\n",
      "157/157 [==============================] - 190s 1s/step - loss: 0.6771 - acc: 0.6051 - val_loss: 0.5895 - val_acc: 0.8000\n",
      "Epoch 7/20\n",
      "157/157 [==============================] - 181s 1s/step - loss: 0.6821 - acc: 0.5924 - val_loss: 0.5887 - val_acc: 0.7750\n",
      "Epoch 8/20\n",
      "157/157 [==============================] - 187s 1s/step - loss: 0.6627 - acc: 0.6242 - val_loss: 0.5914 - val_acc: 0.7750\n",
      "Epoch 9/20\n",
      "157/157 [==============================] - 200s 1s/step - loss: 0.6780 - acc: 0.6306 - val_loss: 0.6124 - val_acc: 0.7250\n",
      "Epoch 10/20\n",
      "157/157 [==============================] - 178s 1s/step - loss: 0.6595 - acc: 0.6369 - val_loss: 0.5608 - val_acc: 0.7750\n",
      "Epoch 11/20\n",
      "157/157 [==============================] - 194s 1s/step - loss: 0.6594 - acc: 0.6306 - val_loss: 0.5403 - val_acc: 0.7750\n",
      "Epoch 12/20\n",
      "157/157 [==============================] - 189s 1s/step - loss: 0.6496 - acc: 0.6178 - val_loss: 0.5867 - val_acc: 0.7250\n",
      "Epoch 13/20\n",
      "157/157 [==============================] - 185s 1s/step - loss: 0.6628 - acc: 0.5987 - val_loss: 0.5693 - val_acc: 0.8250\n",
      "Epoch 14/20\n",
      "157/157 [==============================] - 190s 1s/step - loss: 0.6596 - acc: 0.6306 - val_loss: 0.5541 - val_acc: 0.7750\n",
      "Epoch 15/20\n",
      "157/157 [==============================] - 191s 1s/step - loss: 0.6506 - acc: 0.6051 - val_loss: 0.5440 - val_acc: 0.8000\n",
      "Epoch 16/20\n",
      "157/157 [==============================] - 213s 1s/step - loss: 0.6756 - acc: 0.5860 - val_loss: 0.5353 - val_acc: 0.7750\n",
      "Epoch 17/20\n",
      "157/157 [==============================] - 231s 1s/step - loss: 0.6456 - acc: 0.6306 - val_loss: 0.5313 - val_acc: 0.8000\n",
      "Epoch 18/20\n",
      "157/157 [==============================] - 123s 786ms/step - loss: 0.6475 - acc: 0.6433 - val_loss: 0.5401 - val_acc: 0.8000\n",
      "Epoch 19/20\n",
      "157/157 [==============================] - 107s 681ms/step - loss: 0.6315 - acc: 0.6497 - val_loss: 0.5062 - val_acc: 0.8000\n",
      "Epoch 20/20\n",
      "157/157 [==============================] - 106s 677ms/step - loss: 0.5930 - acc: 0.6815 - val_loss: 0.4778 - val_acc: 0.8500\n"
     ]
    }
   ],
   "source": [
    "#Fitting the NN model 64 units; 2 classes\n",
    "es = EarlyStopping(monitor='val_loss', mode='min', verbose=1, patience=5)\n",
    "history = model1.fit(X_train, y_train, epochs= 20, shuffle = True, callbacks=[es], \n",
    "                     validation_data=[X_test,y_test])"
   ]
  },
  {
   "cell_type": "code",
   "execution_count": 40,
   "metadata": {},
   "outputs": [
    {
     "name": "stdout",
     "output_type": "stream",
     "text": [
      "Train on 192 samples, validate on 49 samples\n",
      "Epoch 1/20\n",
      "192/192 [==============================] - 75s 391ms/step - loss: 1.0735 - acc: 0.3906 - val_loss: 0.9727 - val_acc: 0.5306\n",
      "Epoch 2/20\n",
      "192/192 [==============================] - 75s 391ms/step - loss: 0.9978 - acc: 0.4688 - val_loss: 0.8845 - val_acc: 0.5510\n",
      "Epoch 3/20\n",
      "192/192 [==============================] - 75s 390ms/step - loss: 0.9234 - acc: 0.5104 - val_loss: 0.8352 - val_acc: 0.4898\n",
      "Epoch 4/20\n",
      "192/192 [==============================] - 79s 413ms/step - loss: 0.8912 - acc: 0.4844 - val_loss: 0.8111 - val_acc: 0.5714\n",
      "Epoch 5/20\n",
      "192/192 [==============================] - 75s 389ms/step - loss: 0.8599 - acc: 0.5573 - val_loss: 0.8283 - val_acc: 0.4898\n",
      "Epoch 6/20\n",
      "192/192 [==============================] - 74s 386ms/step - loss: 0.8596 - acc: 0.5156 - val_loss: 0.8506 - val_acc: 0.5918\n",
      "Epoch 7/20\n",
      "192/192 [==============================] - 74s 385ms/step - loss: 0.8447 - acc: 0.5833 - val_loss: 0.8518 - val_acc: 0.5102\n",
      "Epoch 8/20\n",
      "192/192 [==============================] - 75s 393ms/step - loss: 0.8440 - acc: 0.5677 - val_loss: 0.9294 - val_acc: 0.5510\n",
      "Epoch 9/20\n",
      "192/192 [==============================] - 75s 391ms/step - loss: 0.8180 - acc: 0.5990 - val_loss: 0.8066 - val_acc: 0.5714\n",
      "Epoch 10/20\n",
      "192/192 [==============================] - 75s 390ms/step - loss: 0.8222 - acc: 0.6146 - val_loss: 0.8689 - val_acc: 0.5306\n",
      "Epoch 11/20\n",
      "192/192 [==============================] - 77s 402ms/step - loss: 0.8497 - acc: 0.5469 - val_loss: 0.8416 - val_acc: 0.6122\n",
      "Epoch 12/20\n",
      "192/192 [==============================] - 77s 399ms/step - loss: 0.8175 - acc: 0.5729 - val_loss: 0.8344 - val_acc: 0.4898\n",
      "Epoch 13/20\n",
      "192/192 [==============================] - 75s 392ms/step - loss: 0.7811 - acc: 0.6146 - val_loss: 0.8497 - val_acc: 0.5510\n",
      "Epoch 14/20\n",
      "192/192 [==============================] - 139s 723ms/step - loss: 0.7661 - acc: 0.5625 - val_loss: 0.8205 - val_acc: 0.5714\n",
      "Epoch 00014: early stopping\n"
     ]
    }
   ],
   "source": [
    "#Fitting the NN model 64 units; 3 classes\n",
    "es = EarlyStopping(monitor='val_loss', mode='min', verbose=1, patience=5)\n",
    "history = model1.fit(X_train, y_train, epochs= 20, shuffle = True, callbacks=[es], \n",
    "                     validation_data=[X_test,y_test])"
   ]
  },
  {
   "cell_type": "code",
   "execution_count": null,
   "metadata": {},
   "outputs": [],
   "source": [
    "model.summary()"
   ]
  },
  {
   "cell_type": "code",
   "execution_count": null,
   "metadata": {},
   "outputs": [],
   "source": []
  },
  {
   "cell_type": "code",
   "execution_count": 83,
   "metadata": {},
   "outputs": [
    {
     "data": {
      "image/png": "[encoded data removed]",
      "text/plain": [
       "<Figure size 432x288 with 1 Axes>"
      ]
     },
     "metadata": {
      "needs_background": "light"
     },
     "output_type": "display_data"
    }
   ],
   "source": [
    "# summarize history for accuracy\n",
    "plt.plot(history.history['acc'])\n",
    "plt.plot(history.history['val_acc'])\n",
    "plt.title('model accuracy')\n",
    "plt.ylabel('accuracy')\n",
    "plt.xlabel('epoch')\n",
    "plt.legend(['X_train', 'test'], loc='upper left')\n",
    "plt.show()"
   ]
  },
  {
   "cell_type": "code",
   "execution_count": 79,
   "metadata": {},
   "outputs": [],
   "source": [
    "Y_p = model1.predict(X_test)"
   ]
  },
  {
   "cell_type": "code",
   "execution_count": 59,
   "metadata": {},
   "outputs": [
    {
     "name": "stdout",
     "output_type": "stream",
     "text": [
      "Accuracy: 0.5714285714285714\n",
      "F1 score: 0.5648194237044412\n",
      "Recall: 0.5714285714285714\n",
      "Precision_score: 0.575117496391269\n"
     ]
    }
   ],
   "source": [
    "# This is for 3 emotional states -> Solving a puzzle within a timeframe (108 samples), relaxed state (89), laugh (49)\n",
    "from sklearn.metrics import confusion_matrix\n",
    "from sklearn.metrics import precision_score, recall_score, confusion_matrix, classification_report,accuracy_score, f1_score\n",
    "print('Accuracy:', accuracy_score(y_test.argmax(axis=1), Y_p.argmax(axis=1)))\n",
    "print('F1 score:', f1_score(y_test.argmax(axis=1), Y_p.argmax(axis=1),average='weighted'))\n",
    "print('Recall:', recall_score(y_test.argmax(axis=1), Y_p.argmax(axis=1), average='weighted'))\n",
    "print('Precision_score:', precision_score(y_test.argmax(axis=1), Y_p.argmax(axis=1), average='weighted'))"
   ]
  },
  {
   "cell_type": "code",
   "execution_count": 80,
   "metadata": {},
   "outputs": [
    {
     "name": "stdout",
     "output_type": "stream",
     "text": [
      "Accuracy: 0.85\n",
      "F1 score: 0.85\n",
      "Recall: 0.85\n",
      "Precision_score: 0.8542606516290727\n"
     ]
    }
   ],
   "source": [
    "# This is for  emotional states -> Solving a puzzle within a timeframe (108 samples), relaxed state (89)\n",
    "from sklearn.metrics import confusion_matrix\n",
    "from sklearn.metrics import precision_score, recall_score, confusion_matrix, classification_report,accuracy_score, f1_score\n",
    "print('Accuracy:', accuracy_score(y_test.argmax(axis=1), Y_p.argmax(axis=1)))\n",
    "print('F1 score:', f1_score(y_test.argmax(axis=1), Y_p.argmax(axis=1),average='weighted'))\n",
    "print('Recall:', recall_score(y_test.argmax(axis=1), Y_p.argmax(axis=1), average='weighted'))\n",
    "print('Precision_score:', precision_score(y_test.argmax(axis=1), Y_p.argmax(axis=1), average='weighted'))"
   ]
  },
  {
   "cell_type": "code",
   "execution_count": 81,
   "metadata": {},
   "outputs": [
    {
     "data": {
      "text/plain": [
       "array([1, 1, 1, 1, 1, 1, 0, 0, 1, 0, 0, 0, 0, 0, 1, 1, 0, 0, 0, 1, 1, 0,\n",
       "       1, 1, 0, 1, 0, 0, 1, 0, 1, 0, 0, 1, 0, 0, 0, 0, 1, 1], dtype=int64)"
      ]
     },
     "execution_count": 81,
     "metadata": {},
     "output_type": "execute_result"
    }
   ],
   "source": [
    "Y_p.argmax(axis=1)"
   ]
  },
  {
   "cell_type": "code",
   "execution_count": 82,
   "metadata": {},
   "outputs": [
    {
     "data": {
      "text/plain": [
       "array([1, 1, 1, 1, 1, 0, 0, 0, 1, 0, 0, 0, 1, 1, 1, 1, 0, 0, 0, 1, 1, 0,\n",
       "       1, 1, 0, 1, 0, 1, 1, 0, 1, 0, 0, 1, 0, 0, 1, 0, 0, 1], dtype=int64)"
      ]
     },
     "execution_count": 82,
     "metadata": {},
     "output_type": "execute_result"
    }
   ],
   "source": [
    "y_test.argmax(axis=1)"
   ]
  },
  {
   "cell_type": "code",
   "execution_count": null,
   "metadata": {},
   "outputs": [],
   "source": []
  },
  {
   "cell_type": "code",
   "execution_count": null,
   "metadata": {},
   "outputs": [],
   "source": []
  }
 ],
 "metadata": {
  "kernelspec": {
   "display_name": "Python 3",
   "language": "python",
   "name": "python3"
  },
  "language_info": {
   "codemirror_mode": {
    "name": "ipython",
    "version": 3
   },
   "file_extension": ".py",
   "mimetype": "text/x-python",
   "name": "python",
   "nbconvert_exporter": "python",
   "pygments_lexer": "ipython3",
   "version": "3.7.3"
  }
 },
 "nbformat": 4,
 "nbformat_minor": 2
}
